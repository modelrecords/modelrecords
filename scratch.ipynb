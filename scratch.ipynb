{
 "cells": [
  {
   "cell_type": "markdown",
   "metadata": {},
   "source": []
  },
  {
   "cell_type": "code",
   "execution_count": 2,
   "metadata": {},
   "outputs": [
    {
     "data": {
      "text/plain": [
       "[]"
      ]
     },
     "execution_count": 2,
     "metadata": {},
     "output_type": "execute_result"
    }
   ],
   "source": [
    "from modelrecords.repository import Repository\n",
    "from modelrecords.modelrecord import ModelRecord\n",
    "repo_yml = Repository().load_modelrecord_yaml('llama3-70b')\n",
    "mr = ModelRecord(repo_yml)\n",
    "mr.parse()\n",
    "mr.results()"
   ]
  },
  {
   "cell_type": "code",
   "execution_count": 3,
   "metadata": {},
   "outputs": [
    {
     "name": "stdout",
     "output_type": "stream",
     "text": [
      "[]\n"
     ]
    },
    {
     "name": "stderr",
     "output_type": "stream",
     "text": [
      "/Users/lebensold/dev/modelrecords/modelrecords/card_document_renderer.py:24: SyntaxWarning: invalid escape sequence '\\B'\n",
      "  block_start_string=\"\\BLOCK{\",\n",
      "/Users/lebensold/dev/modelrecords/modelrecords/card_document_renderer.py:26: SyntaxWarning: invalid escape sequence '\\V'\n",
      "  variable_start_string=\"\\VAR{\",\n",
      "/Users/lebensold/dev/modelrecords/modelrecords/card_document_renderer.py:28: SyntaxWarning: invalid escape sequence '\\#'\n",
      "  comment_start_string=\"\\#{\",\n",
      "/Users/lebensold/dev/modelrecords/modelrecords/card_document_renderer.py:24: SyntaxWarning: invalid escape sequence '\\B'\n",
      "  block_start_string=\"\\BLOCK{\",\n",
      "/Users/lebensold/dev/modelrecords/modelrecords/card_document_renderer.py:26: SyntaxWarning: invalid escape sequence '\\V'\n",
      "  variable_start_string=\"\\VAR{\",\n",
      "/Users/lebensold/dev/modelrecords/modelrecords/card_document_renderer.py:28: SyntaxWarning: invalid escape sequence '\\#'\n",
      "  comment_start_string=\"\\#{\",\n"
     ]
    },
    {
     "ename": "TypeError",
     "evalue": "'NoneType' object is not iterable",
     "output_type": "error",
     "traceback": [
      "\u001b[0;31m---------------------------------------------------------------------------\u001b[0m",
      "\u001b[0;31mTypeError\u001b[0m                                 Traceback (most recent call last)",
      "Cell \u001b[0;32mIn[3], line 7\u001b[0m\n\u001b[1;32m      5\u001b[0m \u001b[38;5;28mprint\u001b[39m(mr\u001b[38;5;241m.\u001b[39mresults())\n\u001b[1;32m      6\u001b[0m cdr \u001b[38;5;241m=\u001b[39m CardDocumentRenderer(mr)\n\u001b[0;32m----> 7\u001b[0m \u001b[43mcdr\u001b[49m\u001b[38;5;241;43m.\u001b[39;49m\u001b[43msave_pdf\u001b[49m\u001b[43m(\u001b[49m\u001b[43m)\u001b[49m\n",
      "File \u001b[0;32m~/dev/modelrecords/modelrecords/card_document_renderer.py:42\u001b[0m, in \u001b[0;36mCardDocumentRenderer.save_pdf\u001b[0;34m(self)\u001b[0m\n\u001b[1;32m     40\u001b[0m Path(\u001b[38;5;28mself\u001b[39m\u001b[38;5;241m.\u001b[39moutput_dir)\u001b[38;5;241m.\u001b[39mmkdir(parents\u001b[38;5;241m=\u001b[39m\u001b[38;5;28;01mTrue\u001b[39;00m, exist_ok\u001b[38;5;241m=\u001b[39m\u001b[38;5;28;01mTrue\u001b[39;00m)\n\u001b[1;32m     41\u001b[0m \u001b[38;5;28;01mwith\u001b[39;00m \u001b[38;5;28mopen\u001b[39m(\u001b[38;5;124mf\u001b[39m\u001b[38;5;124m\"\u001b[39m\u001b[38;5;132;01m{\u001b[39;00m\u001b[38;5;28mself\u001b[39m\u001b[38;5;241m.\u001b[39moutput_dir\u001b[38;5;132;01m}\u001b[39;00m\u001b[38;5;124m/\u001b[39m\u001b[38;5;132;01m{\u001b[39;00m\u001b[38;5;28mself\u001b[39m\u001b[38;5;241m.\u001b[39moutput_filename\u001b[38;5;132;01m}\u001b[39;00m\u001b[38;5;124m\"\u001b[39m, \u001b[38;5;124m\"\u001b[39m\u001b[38;5;124mw\u001b[39m\u001b[38;5;124m\"\u001b[39m) \u001b[38;5;28;01mas\u001b[39;00m f:\n\u001b[0;32m---> 42\u001b[0m     f\u001b[38;5;241m.\u001b[39mwrite(\u001b[38;5;28;43mself\u001b[39;49m\u001b[38;5;241;43m.\u001b[39;49m\u001b[43mrender_tex\u001b[49m\u001b[43m(\u001b[49m\u001b[43m)\u001b[49m)\n\u001b[1;32m     43\u001b[0m os\u001b[38;5;241m.\u001b[39msystem(\n\u001b[1;32m     44\u001b[0m     \u001b[38;5;124mf\u001b[39m\u001b[38;5;124m\"\u001b[39m\u001b[38;5;132;01m{\u001b[39;00m\u001b[38;5;28mself\u001b[39m\u001b[38;5;241m.\u001b[39mpdf_cmd\u001b[38;5;132;01m}\u001b[39;00m\u001b[38;5;124m --output-directory=\u001b[39m\u001b[38;5;132;01m{\u001b[39;00m\u001b[38;5;28mself\u001b[39m\u001b[38;5;241m.\u001b[39moutput_dir\u001b[38;5;132;01m}\u001b[39;00m\u001b[38;5;124m \u001b[39m\u001b[38;5;132;01m{\u001b[39;00m\u001b[38;5;28mself\u001b[39m\u001b[38;5;241m.\u001b[39moutput_dir\u001b[38;5;132;01m}\u001b[39;00m\u001b[38;5;124m/\u001b[39m\u001b[38;5;132;01m{\u001b[39;00m\u001b[38;5;28mself\u001b[39m\u001b[38;5;241m.\u001b[39moutput_filename\u001b[38;5;132;01m}\u001b[39;00m\u001b[38;5;124m \u001b[39m\u001b[38;5;124m\"\u001b[39m\n\u001b[1;32m     45\u001b[0m )\n",
      "File \u001b[0;32m~/dev/modelrecords/modelrecords/card_document_renderer.py:37\u001b[0m, in \u001b[0;36mCardDocumentRenderer.render_tex\u001b[0;34m(self)\u001b[0m\n\u001b[1;32m     36\u001b[0m \u001b[38;5;28;01mdef\u001b[39;00m \u001b[38;5;21mrender_tex\u001b[39m(\u001b[38;5;28mself\u001b[39m):\n\u001b[0;32m---> 37\u001b[0m     \u001b[38;5;28;01mreturn\u001b[39;00m \u001b[38;5;28;43mself\u001b[39;49m\u001b[38;5;241;43m.\u001b[39;49m\u001b[43mtemplate\u001b[49m\u001b[38;5;241;43m.\u001b[39;49m\u001b[43mrender\u001b[49m\u001b[43m(\u001b[49m\u001b[38;5;28;43mself\u001b[39;49m\u001b[38;5;241;43m.\u001b[39;49m\u001b[43mmodelrecord_model\u001b[49m\u001b[38;5;241;43m.\u001b[39;49m\u001b[43mresults_as_dict\u001b[49m\u001b[43m(\u001b[49m\u001b[43m)\u001b[49m\u001b[43m)\u001b[49m\n",
      "File \u001b[0;32m/opt/miniconda3/envs/modelrecords/lib/python3.12/site-packages/jinja2/environment.py:1304\u001b[0m, in \u001b[0;36mTemplate.render\u001b[0;34m(self, *args, **kwargs)\u001b[0m\n\u001b[1;32m   1302\u001b[0m     \u001b[38;5;28;01mreturn\u001b[39;00m \u001b[38;5;28mself\u001b[39m\u001b[38;5;241m.\u001b[39menvironment\u001b[38;5;241m.\u001b[39mconcat(\u001b[38;5;28mself\u001b[39m\u001b[38;5;241m.\u001b[39mroot_render_func(ctx))  \u001b[38;5;66;03m# type: ignore\u001b[39;00m\n\u001b[1;32m   1303\u001b[0m \u001b[38;5;28;01mexcept\u001b[39;00m \u001b[38;5;167;01mException\u001b[39;00m:\n\u001b[0;32m-> 1304\u001b[0m     \u001b[38;5;28;43mself\u001b[39;49m\u001b[38;5;241;43m.\u001b[39;49m\u001b[43menvironment\u001b[49m\u001b[38;5;241;43m.\u001b[39;49m\u001b[43mhandle_exception\u001b[49m\u001b[43m(\u001b[49m\u001b[43m)\u001b[49m\n",
      "File \u001b[0;32m/opt/miniconda3/envs/modelrecords/lib/python3.12/site-packages/jinja2/environment.py:939\u001b[0m, in \u001b[0;36mEnvironment.handle_exception\u001b[0;34m(self, source)\u001b[0m\n\u001b[1;32m    934\u001b[0m \u001b[38;5;250m\u001b[39m\u001b[38;5;124;03m\"\"\"Exception handling helper.  This is used internally to either raise\u001b[39;00m\n\u001b[1;32m    935\u001b[0m \u001b[38;5;124;03mrewritten exceptions or return a rendered traceback for the template.\u001b[39;00m\n\u001b[1;32m    936\u001b[0m \u001b[38;5;124;03m\"\"\"\u001b[39;00m\n\u001b[1;32m    937\u001b[0m \u001b[38;5;28;01mfrom\u001b[39;00m \u001b[38;5;21;01m.\u001b[39;00m\u001b[38;5;21;01mdebug\u001b[39;00m \u001b[38;5;28;01mimport\u001b[39;00m rewrite_traceback_stack\n\u001b[0;32m--> 939\u001b[0m \u001b[38;5;28;01mraise\u001b[39;00m rewrite_traceback_stack(source\u001b[38;5;241m=\u001b[39msource)\n",
      "File \u001b[0;32m~/dev/modelrecords/modelrecords/templates/modelcard.tex.jinja2:136\u001b[0m, in \u001b[0;36mtop-level template code\u001b[0;34m()\u001b[0m\n\u001b[1;32m    134\u001b[0m \n\u001b[1;32m    135\u001b[0m  \\begin{sectionlist}{Packages}\n\u001b[0;32m--> 136\u001b[0m     \\BLOCK{ for item in mr.upstream_relations}\n\u001b[1;32m    137\u001b[0m         \\item \\VAR{ item }\n\u001b[1;32m    138\u001b[0m     \\BLOCK{ endfor }\n",
      "\u001b[0;31mTypeError\u001b[0m: 'NoneType' object is not iterable"
     ]
    }
   ],
   "source": [
    "import yaml\n",
    "import os\n",
    "from modelrecords.modelrecord import ModelRecord\n",
    "from modelrecords.card_document_renderer import CardDocumentRenderer\n",
    "print(mr.results())\n",
    "cdr = CardDocumentRenderer(mr)\n",
    "cdr.save_pdf()"
   ]
  },
  {
   "cell_type": "code",
   "execution_count": 5,
   "metadata": {},
   "outputs": [
    {
     "name": "stdout",
     "output_type": "stream",
     "text": [
      "family Llama 3\n",
      "family BLOOMZ\n",
      "dataset COYO-700M\n",
      "dataset P3\n",
      "dataset The BigScience ROOTS Corpus\n",
      "model mt5-base\n",
      "model bloom-7b1\n",
      "model bloomz-3b\n",
      "family Llama 2\n",
      "dataset LAION 5B\n",
      "model mt0-large\n",
      "model mt5-small\n",
      "model LLaVA-1.6 Vicuna 13B\n",
      "model Test Model - 1.2.0\n",
      "dataset Common Crawl\n",
      "model PLIP\n",
      "family LAION\n",
      "dataset LLaVa MM-Instruct\n",
      "family Vicuna\n",
      "model PaLM 2\n",
      "dataset Web Image Text\n",
      "model Llama 2 70B\n",
      "model bloomz-1b7\n",
      "model CLIP\n",
      "model mt0-small\n",
      "model Llama 3 70B\n",
      "dataset xP3mt\n",
      "model mt0-xl\n",
      "dataset xP3x\n",
      "model bloomz-1b1\n",
      "family mt0\n",
      "family Llama 3.1\n",
      "dataset CC3M\n",
      "dataset mC4\n",
      "model mt5-xl\n",
      "model BLOOM\n",
      "dataset LAION 2B\n",
      "model mt5-large\n",
      "model Vicuna-13B\n",
      "model Llama 3 8B\n",
      "model bloom-1b1\n",
      "family OpenAI GPT\n",
      "dataset Science QA\n",
      "dataset COCO\n",
      "model bloomz-7b1-p3\n",
      "model bloom-1b7\n",
      "dataset xP3megds\n",
      "model mt0-base\n",
      "model bloom-3b\n",
      "model bloomz-560m\n",
      "model Llama 3.1 8B\n",
      "model bloomz-7b1-mt\n",
      "dataset LAION 400m\n",
      "dataset Vicuna 70k ChatGPT\n",
      "model bloomz-7b1\n",
      "model mt5-xxl\n",
      "model Llama 2 13B\n",
      "model Llama 2 7B\n",
      "model mT5\n",
      "model GPT 4\n",
      "dataset xP3\n",
      "model bloomz-560m\n",
      "dataset xP3all\n",
      "family LLaVA\n",
      "model Llama 3.1 70B\n",
      "model mt0-xxl\n",
      "model Llama 3.1 405B\n",
      "model EVA-G\n",
      "model Claude 2\n"
     ]
    }
   ],
   "source": [
    "import sys\n",
    "sys.path.append(\".\")\n",
    "from modelrecords.repository import Repository\n",
    "\n",
    "\n",
    "repo = Repository()\n",
    "\n",
    "for pkg in repo.all_packages():\n",
    "    mr = repo.find(pkg)\n",
    "    mr.parse()\n",
    "    if hasattr(mr, 'type'):\n",
    "        print(mr.type, mr.model_name)\n",
    "    else:\n",
    "        print(mr.model_name)\n",
    "#     #print(path)\n",
    "#     repo.update_card_attrs(pkg, {})\n",
    "#repo.find_in_repo('llama2-7b')"
   ]
  }
 ],
 "metadata": {
  "kernelspec": {
   "display_name": "ModelRecords",
   "language": "python",
   "name": "python3"
  },
  "language_info": {
   "codemirror_mode": {
    "name": "ipython",
    "version": 3
   },
   "file_extension": ".py",
   "mimetype": "text/x-python",
   "name": "python",
   "nbconvert_exporter": "python",
   "pygments_lexer": "ipython3",
   "version": "3.12.4"
  }
 },
 "nbformat": 4,
 "nbformat_minor": 2
}
