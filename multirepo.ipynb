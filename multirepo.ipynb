{
 "cells": [
  {
   "cell_type": "code",
   "execution_count": 1,
   "metadata": {},
   "outputs": [],
   "source": [
    "from modelrecords.repository import Repository\n",
    "\n",
    "repo = Repository()\n",
    "repo.add_repository('../unified_model_records/repository/')"
   ]
  },
  {
   "cell_type": "code",
   "execution_count": 2,
   "metadata": {},
   "outputs": [
    {
     "data": {
      "text/plain": [
       "'../unified_model_records/repository/beavertail'"
      ]
     },
     "execution_count": 2,
     "metadata": {},
     "output_type": "execute_result"
    }
   ],
   "source": [
    "repo.auxiliary_parsers[0].parse_pkg_folder('beavertail')"
   ]
  },
  {
   "cell_type": "code",
   "execution_count": 3,
   "metadata": {},
   "outputs": [
    {
     "name": "stdout",
     "output_type": "stream",
     "text": [
      "Question upstream.additional_dependencies not answered.\n",
      "Question downstream.affected_individuals not answered.\n",
      "Question downstream.affected_market_sectors not answered.\n",
      "Question model.blackbox_external_model_access not answered.\n",
      "Question upstream.broader_environmental_impact not answered.\n",
      "Question model.capabilities_demonstration not answered.\n",
      "Question model.capabilities_description not answered.\n",
      "Question upstream.carbon_emissions not answered.\n",
      "Question downstream.centralized_documentation_for_downstream_use not answered.\n",
      "Question model.centralized_model_documentation not answered.\n",
      "Question downstream.change_log not answered.\n",
      "Question upstream.compute_hardware not answered.\n",
      "Question upstream.compute_usage not answered.\n",
      "Question upstream.core_frameworks not answered.\n",
      "Question upstream.data_augmentation not answered.\n",
      "Question upstream.copyrighted_data not answered.\n",
      "Question upstream.data_creators not answered.\n",
      "Question upstream.data_curation not answered.\n",
      "Question upstream.data_license_status not answered.\n",
      "Question upstream.data_size not answered.\n",
      "Question upstream.data_source_selection not answered.\n",
      "Question upstream.data_sources not answered.\n",
      "Question downstream.deprecation_policy not answered.\n",
      "Question upstream.development_duration not answered.\n",
      "Question upstream.direct_external_data_access not answered.\n",
      "Question downstream.distribution_channels not answered.\n",
      "Question downstream.documentation_for_responsible_downstream_use not answered.\n",
      "Question downstream.downstream_applications not answered.\n",
      "Question upstream.employment_of_data_laborers not answered.\n",
      "Question upstream.energy_usage not answered.\n",
      "Question model.evaluation_of_capabilities not answered.\n",
      "Question model.external_model_access_protocol not answered.\n",
      "Question model.external_reproducibility_of_capabilities_evaluation not answered.\n",
      "Question model.external_reproducibility_of_intentional_harm_evaluation not answered.\n",
      "Question model.external_reproducibility_of_mitigations_evaluation not answered.\n",
      "Question model.external_reproducibility_of_trustworthiness_evaluation not answered.\n",
      "Question model.external_reproducibility_of_unintentional_harm_evaluation not answered.\n",
      "Question downstream.feedback_mechanism not answered.\n",
      "Question downstream.feedback_summary not answered.\n",
      "Question model.full_external_model_access not answered.\n",
      "Question upstream.geographic_distribution_of_data_laborers not answered.\n",
      "Question downstream.geographic_statistics not answered.\n",
      "Question downstream.government_inquiries not answered.\n",
      "Question upstream.hardware_owner not answered.\n",
      "Question upstream.harmful_data_filtration not answered.\n",
      "Question model.inference_compute_evaluation not answered.\n",
      "Question model.inference_duration_evaluation not answered.\n",
      "Question model.input_modality not answered.\n",
      "Question upstream.instructions_for_creating_data not answered.\n",
      "Question model.intentional_harm_evaluation not answered.\n",
      "Question downstream.interoperability_of_usage_and_model_behavior_policies not answered.\n",
      "Question downstream.justification_for_enforcement_action not answered.\n",
      "Question upstream.labor_protections not answered.\n",
      "Question model.limitations_demonstration not answered.\n",
      "Question model.limitations_description not answered.\n",
      "Question downstream.detection_of_machine_generated_content not answered.\n",
      "Question model.mitigations_demonstration not answered.\n",
      "Question model.mitigations_description not answered.\n",
      "Question model.mitigations_evaluation not answered.\n",
      "Question upstream.mitigations_for_copyright not answered.\n",
      "Question upstream.mitigations_for_privacy not answered.\n",
      "Question model.model_architecture not answered.\n",
      "Question model.asset_license not answered.\n",
      "Question downstream.model_behavior_policy_enforcement not answered.\n",
      "Question model.model_components not answered.\n",
      "Question upstream.model_objectives not answered.\n",
      "Question model.model_size not answered.\n",
      "Question upstream.model_stages not answered.\n",
      "Question downstream.monitoring_mechanism not answered.\n",
      "Question model.output_modality not answered.\n",
      "Question downstream.permitted_and_prohibited_use_of_user_data not answered.\n",
      "Question downstream.permitted_and_prohibited_users not answered.\n",
      "Question upstream.personal_information_in_data not answered.\n",
      "Question downstream.products_and_services not answered.\n",
      "Question upstream.queryable_external_data_access not answered.\n",
      "Question downstream.redress_mechanism not answered.\n",
      "Question downstream.release_decision_making_protocol not answered.\n",
      "Question downstream.release_process not answered.\n",
      "Question model.risks_demonstration not answered.\n",
      "Question model.risks_description not answered.\n",
      "Question downstream.terms_of_service not answered.\n",
      "Question model.third_party_capabilities_evaluation not answered.\n",
      "Question model.third_party_evaluation_of_limitations not answered.\n",
      "Question model.third_party_mitigations_evaluation not answered.\n",
      "Question model.third_party_risks_evaluation not answered.\n",
      "Question upstream.third_party_partners not answered.\n",
      "Question model.trustworthiness_evaluation not answered.\n",
      "Question model.unintentional_harm_evaluation not answered.\n",
      "Question downstream.usage_data_access_protocol not answered.\n",
      "Question downstream.usage_disclaimers not answered.\n",
      "Question downstream.usage_policy_enforcement not answered.\n",
      "Question downstream.usage_policy_violation_appeals_mechanism not answered.\n",
      "Question downstream.usage_reports not answered.\n",
      "Question upstream.use_of_human_labor not answered.\n",
      "Question downstream.user_data_protection_policy not answered.\n",
      "Question downstream.user_interaction_with_ai_system not answered.\n",
      "Question downstream.versioning_protocol not answered.\n",
      "Question upstream.wages not answered.\n",
      "Question downstream.permitted_restricted_and_prohibited_model_behaviors not answered.\n",
      "Question downstream.permitted_restricted_and_prohibited_uses not answered.\n"
     ]
    },
    {
     "data": {
      "text/plain": [
       "<modelrecords.modelrecord.ModelRecord at 0x10633fa70>"
      ]
     },
     "execution_count": 3,
     "metadata": {},
     "output_type": "execute_result"
    }
   ],
   "source": [
    "repo.find('beavertail-1k')"
   ]
  }
 ],
 "metadata": {
  "kernelspec": {
   "display_name": "modelrecords",
   "language": "python",
   "name": "python3"
  },
  "language_info": {
   "codemirror_mode": {
    "name": "ipython",
    "version": 3
   },
   "file_extension": ".py",
   "mimetype": "text/x-python",
   "name": "python",
   "nbconvert_exporter": "python",
   "pygments_lexer": "ipython3",
   "version": "3.12.4"
  }
 },
 "nbformat": 4,
 "nbformat_minor": 2
}
