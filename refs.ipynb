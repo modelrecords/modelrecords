{
 "cells": [
  {
   "cell_type": "code",
   "execution_count": 4,
   "metadata": {},
   "outputs": [
    {
     "ename": "TypeError",
     "evalue": "content_extract_text() missing 1 required positional argument: 'ref_path'",
     "output_type": "error",
     "traceback": [
      "\u001b[0;31m---------------------------------------------------------------------------\u001b[0m",
      "\u001b[0;31mTypeError\u001b[0m                                 Traceback (most recent call last)",
      "Cell \u001b[0;32mIn[4], line 10\u001b[0m\n\u001b[1;32m      8\u001b[0m pkg \u001b[38;5;241m=\u001b[39m \u001b[38;5;124m'\u001b[39m\u001b[38;5;124mvicuna-13b\u001b[39m\u001b[38;5;124m'\u001b[39m\n\u001b[1;32m      9\u001b[0m repository \u001b[38;5;241m=\u001b[39m Repository()\n\u001b[0;32m---> 10\u001b[0m paths \u001b[38;5;241m=\u001b[39m \u001b[43mrepository\u001b[49m\u001b[38;5;241;43m.\u001b[39;49m\u001b[43mdownload_and_process_refs\u001b[49m\u001b[43m(\u001b[49m\u001b[43mpkg\u001b[49m\u001b[43m)\u001b[49m\n\u001b[1;32m     11\u001b[0m paths\n",
      "File \u001b[0;32m~/dev/modelrecords/modelrecords/repository.py:128\u001b[0m, in \u001b[0;36mRepository.download_and_process_refs\u001b[0;34m(self, pkg)\u001b[0m\n\u001b[1;32m    126\u001b[0m ref_path \u001b[38;5;241m=\u001b[39m \u001b[38;5;124mf\u001b[39m\u001b[38;5;124m'\u001b[39m\u001b[38;5;132;01m{\u001b[39;00m\u001b[38;5;28mself\u001b[39m\u001b[38;5;241m.\u001b[39mbase_repo_path\u001b[38;5;132;01m}\u001b[39;00m\u001b[38;5;124m/_refs/\u001b[39m\u001b[38;5;132;01m{\u001b[39;00mpkg\u001b[38;5;132;01m}\u001b[39;00m\u001b[38;5;124m'\u001b[39m\n\u001b[1;32m    127\u001b[0m Path(\u001b[38;5;124mf\u001b[39m\u001b[38;5;124m'\u001b[39m\u001b[38;5;132;01m{\u001b[39;00mref_path\u001b[38;5;132;01m}\u001b[39;00m\u001b[38;5;124m'\u001b[39m)\u001b[38;5;241m.\u001b[39mmkdir(parents\u001b[38;5;241m=\u001b[39m\u001b[38;5;28;01mTrue\u001b[39;00m, exist_ok\u001b[38;5;241m=\u001b[39m\u001b[38;5;28;01mTrue\u001b[39;00m)\n\u001b[0;32m--> 128\u001b[0m text_files \u001b[38;5;241m=\u001b[39m \u001b[43mcontent_extract_text\u001b[49m\u001b[43m(\u001b[49m\u001b[43mrefs\u001b[49m\u001b[43m,\u001b[49m\u001b[43m \u001b[49m\u001b[43mref_path\u001b[49m\u001b[43m)\u001b[49m\n\u001b[1;32m    129\u001b[0m \u001b[38;5;28;01mreturn\u001b[39;00m text_files\n",
      "\u001b[0;31mTypeError\u001b[0m: content_extract_text() missing 1 required positional argument: 'ref_path'"
     ]
    }
   ],
   "source": [
    "from modelrecords.repository import Repository\n",
    "from modelrecords.card_parser import Parser\n",
    "\n",
    "pkg = 'llama2-1.0.0'\n",
    "pkg = 'bloomz-1.0.0'\n",
    "pkg = 'claude2-1.0.0'\n",
    "pkg = 'vicuna-1.0.0'\n",
    "pkg = 'vicuna-13b-1.0.0'\n",
    "repository = Repository()\n",
    "paths = repository.download_and_process_refs(pkg)\n",
    "paths"
   ]
  },
  {
   "cell_type": "code",
   "execution_count": 2,
   "metadata": {},
   "outputs": [],
   "source": [
    "#paths.append('repository/_refs/palm2-1.0.0/001.md.txt')"
   ]
  },
  {
   "cell_type": "code",
   "execution_count": 2,
   "metadata": {},
   "outputs": [
    {
     "data": {
      "text/plain": [
       "['/Users/jon/Projects/modelrecords-cli/modelrecords/repository/_refs/vicuna_13b-1.0.0/000.html.txt']"
      ]
     },
     "execution_count": 2,
     "metadata": {},
     "output_type": "execute_result"
    }
   ],
   "source": [
    "paths"
   ]
  },
  {
   "cell_type": "code",
   "execution_count": 3,
   "metadata": {},
   "outputs": [],
   "source": [
    "parser = Parser()\n",
    "parser.parse_with_gpt(paths)\n",
    "#repository.update_card_attrs(pkg, parser.answers)"
   ]
  },
  {
   "cell_type": "code",
   "execution_count": 4,
   "metadata": {},
   "outputs": [
    {
     "data": {
      "text/plain": [
       "{'mr.metadata.name': 'Vicuna-13B',\n",
       " 'mr.metadata.version': '13B',\n",
       " 'mr.metadata.publisher': 'LMSYS Org',\n",
       " 'mr.metadata.model_type': 'Chatbot',\n",
       " 'mr.metadata.release_date': '2023-03-30',\n",
       " 'mr.upstream.intended_use': ['Research and academic purposes to advance the field of natural language processing and chatbot design.',\n",
       "  'Developers and enthusiasts to explore chatbot technologies and implement in non-commercial projects.',\n",
       "  'Educational institutions for teaching concepts related to AI and chatbots.',\n",
       "  'Non-profit organizations to enhance their customer support or engagement through chatbots.',\n",
       "  'Open-source community contribution and improvement.'],\n",
       " 'mr.upstream.factors': ['Performance comparison with other models like ChatGPT and Google Bard.',\n",
       "  'Cost-effectiveness of training the model.',\n",
       "  'Accessibility of the model for non-commercial use.',\n",
       "  'Potential for the community to contribute to model improvement.',\n",
       "  'Ease of integration into existing systems for developers.'],\n",
       " 'mr.upstream.evaluation_data': ['70K user-shared ChatGPT conversations were used for fine-tuning.',\n",
       "  'GPT-4 used for preliminary evaluation to benchmark against ChatGPT and Google Bard.',\n",
       "  'Responses compared for detailed and well-structured answers.',\n",
       "  'Eight question categories devised to assess various aspects of chatbot performance.',\n",
       "  'Comparison based on helpfulness, relevance, accuracy, and detail of responses.'],\n",
       " 'mr.upstream.training_data': ['Approximately 70K user-shared conversations gathered from ShareGPT.com.',\n",
       "  'HTML content converted back to markdown to filter and maintain data quality.',\n",
       "  \"Lengthy conversations divided into smaller segments to fit model's maximum context length.\",\n",
       "  'Dataset expanded to ensure Vicuna understands long context.',\n",
       "  'Innovations such as gradient checkpointing and flash attention applied to manage GPU memory requirements efficiently.'],\n",
       " 'mr.upstream.additional_information': ['Vicuna is an open-source project with its code and weights available on GitHub.',\n",
       "  \"The model is designed for non-commercial use, adhering to LLaMA model license and OpenAI's data usage policies.\",\n",
       "  'The cost of training Vicuna-13B was around $300.',\n",
       "  'The team acknowledges the need for further rigorous evaluation of the model.',\n",
       "  'Community engagement and contributions are encouraged for continued improvement of Vicuna.'],\n",
       " 'mr.upstream.recommendations': ['Use Vicuna-13B for experimental and research purposes to explore limitations and potential improvements.',\n",
       "  'Consider the ethical implications of deploying chatbots and adhere to fair use policies.',\n",
       "  'Because Vicuna is open-source, contributions such as bug fixes, feature enhancements, and training on diverse datasets are recommended.',\n",
       "  'Engage with the development community through discussions, sharing use cases, and providing feedback.',\n",
       "  \"Stay informed about future updates and versions by following the project's official communication channels.\"],\n",
       " 'mr.upstream.ethical_considerations': ['Ensure the model does not generate harmful or biased content by incorporating adequate safety measures.',\n",
       "  \"Be transparent about the model's capabilities and limitations to users and stakeholders.\",\n",
       "  'Consider the environmental impact of training large models and strive for more energy-efficient methodologies.',\n",
       "  'Respect user privacy and data protection laws, especially when dealing with conversation data.',\n",
       "  'Regularly review and update the model and its usage policies to address evolving ethical standards and societal expectations.']}"
      ]
     },
     "execution_count": 4,
     "metadata": {},
     "output_type": "execute_result"
    }
   ],
   "source": [
    "parser.answers"
   ]
  }
 ],
 "metadata": {
  "kernelspec": {
   "display_name": "ModelRecords",
   "language": "python",
   "name": "python3"
  },
  "language_info": {
   "codemirror_mode": {
    "name": "ipython",
    "version": 3
   },
   "file_extension": ".py",
   "mimetype": "text/x-python",
   "name": "python",
   "nbconvert_exporter": "python",
   "pygments_lexer": "ipython3",
   "version": "3.12.4"
  }
 },
 "nbformat": 4,
 "nbformat_minor": 2
}
